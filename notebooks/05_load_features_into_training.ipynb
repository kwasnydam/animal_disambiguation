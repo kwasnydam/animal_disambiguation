{
 "cells": [
  {
   "cell_type": "code",
   "execution_count": 111,
   "metadata": {},
   "outputs": [
    {
     "name": "stdout",
     "output_type": "stream",
     "text": [
      "C:\\Users\\48519\\Professional Stuff\\various\\machine_learning\\mouse_disambiguation\n"
     ]
    }
   ],
   "source": [
    "import os\n",
    "import sys\n",
    "import pickle\n",
    "from inspect import signature\n",
    "\n",
    "import pandas as pd\n",
    "import numpy as np\n",
    "import matplotlib.pyplot as plt\n",
    "from sklearn.linear_model import LogisticRegression\n",
    "import sklearn.metrics as metrics\n",
    "\n",
    "get_dir = os.path.dirname\n",
    "PROJ_ROOT = get_dir(get_dir(os.path.abspath('__file__')))\n",
    "print(PROJ_ROOT)\n",
    "sys.path.append(os.path.join(PROJ_ROOT, 'src'))\n",
    "\n",
    "from data import dataset"
   ]
  },
  {
   "cell_type": "code",
   "execution_count": 112,
   "metadata": {},
   "outputs": [
    {
     "data": {
      "text/plain": [
       "array([[0., 0., 0., ..., 0., 0., 0.],\n",
       "       [0., 0., 0., ..., 0., 0., 1.],\n",
       "       [0., 0., 0., ..., 0., 0., 1.],\n",
       "       ...,\n",
       "       [0., 0., 0., ..., 0., 0., 1.],\n",
       "       [0., 0., 0., ..., 0., 0., 1.],\n",
       "       [0., 0., 0., ..., 0., 0., 1.]])"
      ]
     },
     "execution_count": 112,
     "metadata": {},
     "output_type": "execute_result"
    }
   ],
   "source": [
    "FEATURES_PATH = dataset.DEFAULT_FEATURES_DIRECTORY\n",
    "TRAIN_FEATURES_PATH = os.path.join(FEATURES_PATH, 'train.npy')\n",
    "data = np.load(TRAIN_FEATURES_PATH, allow_pickle=True)\n",
    "data\n",
    "\n"
   ]
  },
  {
   "cell_type": "code",
   "execution_count": 113,
   "metadata": {},
   "outputs": [
    {
     "name": "stdout",
     "output_type": "stream",
     "text": [
      "TRAIN ACCURACY: 0.985981308411215, Precision: 1.0, Recall: 0.98125\n"
     ]
    }
   ],
   "source": [
    "# Okay, lets try fitting a Logistic Regression\n",
    "lr = LogisticRegression(solver='liblinear', class_weight='balanced', C=0.00001)\n",
    "features, classes = data[:,:-1], data[:,-1] \n",
    "lr.fit(features, classes)\n",
    "prediction = lr.predict(features)\n",
    "print('TRAIN ACCURACY: {}, Precision: {}, Recall: {}'.format(\n",
    "    metrics.accuracy_score(classes, prediction),\n",
    "    metrics.precision_score(classes, prediction),\n",
    "    metrics.recall_score(classes, prediction)\n",
    "))"
   ]
  },
  {
   "cell_type": "code",
   "execution_count": 114,
   "metadata": {},
   "outputs": [
    {
     "name": "stdout",
     "output_type": "stream",
     "text": [
      "VALIDATION ACCURACY: 0.9154929577464789, Precision: 0.9318181818181818, Recall: 0.9318181818181818\n"
     ]
    },
    {
     "data": {
      "text/plain": [
       "array([[24,  3],\n",
       "       [ 3, 41]], dtype=int64)"
      ]
     },
     "execution_count": 114,
     "metadata": {},
     "output_type": "execute_result"
    }
   ],
   "source": [
    "# load validation\n",
    "VALIDATION_FEATURES_PATH = os.path.join(FEATURES_PATH, 'validation.npy')\n",
    "validaton = np.load(VALIDATION_FEATURES_PATH, allow_pickle=True)\n",
    "v_features, v_classes = validaton[:,:-1], validaton[:,-1]\n",
    "v_prediction = lr.predict(v_features)\n",
    "\n",
    "print('VALIDATION ACCURACY: {}, Precision: {}, Recall: {}'.format(\n",
    "    metrics.accuracy_score(v_classes, v_prediction),\n",
    "    metrics.precision_score(v_classes, v_prediction),\n",
    "    metrics.recall_score(v_classes, v_prediction)\n",
    "))\n",
    "\n",
    "metrics.confusion_matrix(v_classes, v_prediction)"
   ]
  },
  {
   "cell_type": "code",
   "execution_count": 115,
   "metadata": {},
   "outputs": [
    {
     "name": "stdout",
     "output_type": "stream",
     "text": [
      "VALIDATION ACCURACY: 0.9154929577464789, Precision: 0.9318181818181818, Recall: 0.9318181818181818\n",
      "VALIDATION ACCURACY: 0.9154929577464789, Precision: 0.9318181818181818, Recall: 0.9318181818181818\n"
     ]
    },
    {
     "data": {
      "text/plain": [
       "array([[24,  3],\n",
       "       [ 3, 41]], dtype=int64)"
      ]
     },
     "execution_count": 115,
     "metadata": {},
     "output_type": "execute_result"
    }
   ],
   "source": [
    "\n",
    "print('VALIDATION ACCURACY: {}, Precision: {}, Recall: {}'.format(\n",
    "    metrics.accuracy_score(v_classes, v_prediction),\n",
    "    metrics.precision_score(v_classes, v_prediction),\n",
    "    metrics.recall_score(v_classes, v_prediction)\n",
    "))\n",
    "\n",
    "print('VALIDATION ACCURACY: {}, Precision: {}, Recall: {}'.format(\n",
    "    metrics.accuracy_score(v_classes, v_prediction),\n",
    "    metrics.precision_score(v_classes, v_prediction),\n",
    "    metrics.recall_score(v_classes, v_prediction)\n",
    "))\n",
    "\n",
    "metrics.confusion_matrix(v_classes, v_prediction)\n"
   ]
  }
 ],
 "metadata": {
  "kernelspec": {
   "display_name": ".venv",
   "language": "python",
   "name": ".venv"
  },
  "language_info": {
   "codemirror_mode": {
    "name": "ipython",
    "version": 3
   },
   "file_extension": ".py",
   "mimetype": "text/x-python",
   "name": "python",
   "nbconvert_exporter": "python",
   "pygments_lexer": "ipython3",
   "version": "3.7.0"
  }
 },
 "nbformat": 4,
 "nbformat_minor": 2
}
