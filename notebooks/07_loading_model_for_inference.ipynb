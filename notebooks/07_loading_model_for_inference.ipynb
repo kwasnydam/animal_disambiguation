{
 "cells": [
  {
   "cell_type": "code",
   "execution_count": 1,
   "metadata": {},
   "outputs": [
    {
     "name": "stdout",
     "output_type": "stream",
     "text": [
      "C:\\Users\\48519\\Professional Stuff\\various\\machine_learning\\mouse_disambiguation\n"
     ]
    }
   ],
   "source": [
    "import os\n",
    "import sys\n",
    "import pickle\n",
    "from inspect import signature\n",
    "\n",
    "import pandas as pd\n",
    "import numpy as np\n",
    "import matplotlib.pyplot as plt\n",
    "from sklearn.linear_model import LogisticRegression\n",
    "import sklearn.metrics as metrics\n",
    "from sklearn.preprocessing import normalize\n",
    "\n",
    "get_dir = os.path.dirname\n",
    "PROJ_ROOT = get_dir(get_dir(os.path.abspath('__file__')))\n",
    "print(PROJ_ROOT)\n",
    "sys.path.append(os.path.join(PROJ_ROOT, 'src'))\n",
    "\n",
    "from data import dataset\n",
    "from model import model "
   ]
  },
  {
   "cell_type": "code",
   "execution_count": 2,
   "metadata": {},
   "outputs": [],
   "source": [
    "data_model_path = os.path.join(dataset.DEFAULT_DATA_MODEL_DIRECTORY, 'data_model.pickle')\n",
    "data_model_params = dataset.DEFAULT_VECTORIZER_SETTINGS\n",
    "classificator_path = os.path.join(model.DEFAULT_MODEL_DIRECTORY, 'trained_model.pickle')\n",
    "classificator_params = model.DEFAULT_CLASSIFIER_SETTINGS\n",
    "test_data_directory = dataset.DEFAULT_PROCESSED_DATA_DIRECTORY\n",
    "test_data_features_path = os.path.join(test_data_directory, 'features', 'test.npy')\n",
    "test_data_text_path = os.path.join(test_data_directory, 'text', 'test.csv')"
   ]
  },
  {
   "cell_type": "code",
   "execution_count": 3,
   "metadata": {},
   "outputs": [],
   "source": [
    "with open(data_model_path, 'rb') as dm:\n",
    "    data_model = pickle.load(dm)\n",
    "# data_model = dataset.TextLabelsVectorizer(data_model_params)\n",
    "# print(data_model_trained)\n",
    "# data_model.set_params(data_model_trained)\n",
    "\n",
    "with open(classificator_path, 'rb') as m:\n",
    "    disambiguator = pickle.load(m)"
   ]
  },
  {
   "cell_type": "code",
   "execution_count": 4,
   "metadata": {},
   "outputs": [
    {
     "name": "stdout",
     "output_type": "stream",
     "text": [
      "{'accuracy': 0.9444444444444444, 'precision': 1.0, 'recall': 0.7894736842105263, 'f1': 0.8823529411764706, 'confussion_matrics': [[15, 4], [0, 53]]}\n"
     ]
    }
   ],
   "outputs": [],
   "source": [
    "test_data_text = pd.read_csv(test_data_text_path, sep=';')\n",
    "test_data_text.head()\n",
    "\n",
    "# split into text;classes\n",
    "content,  labels = test_data_text.iloc[:,0], test_data_text.iloc[:,1]\n",
    "\n",
    "# transform to numercial\n",
    "features, classes = data_model.transform(content, labels)\n",
    "\n",
    "#predict classes\n",
    "predicted_classes, prediction_prob = disambiguator.predict(features)[:,0],disambiguator.predict(features)[:,2] \n",
    "predicted_classes, prediction_prob = disambiguator.predict(features)[:,0],disambiguator.predict(features)[:,1] \n",
    "\n",
    "for sentence, real_class, predicted_class, prob in zip(content, labels, predicted_classes, prediction_prob):\n",
    "    summmary = '{}, {}, {}, {}'.format(sentence, real_class, predicted_class, prob)\n",
    "    \n",
    "# test report:\n",
    "predicted_classes, prediction_prob = disambiguator.predict(features, format='binary')[:,0],disambiguator.predict(features)[:,2] \n",
    "report = disambiguator.performance_report(predicted_classes, classes)\n",
    "print(report)"
    "# predicted_classes, prediction_prob = disambiguator.predict(features, format='binary')[:,0],disambiguator.predict(features)[:,2] \n",
    "# report = disambiguator.performance_report(predicted_classes, classes)\n",
    "# print(report)"
   ]
  },
  {
   "cell_type": "code",
   "execution_count": 5,
   "metadata": {},
   "outputs": [
    {
     "name": "stdout",
     "output_type": "stream",
     "text": [

      "['device' '0.7726431066359739']\n",

      "A simple binaryimage version of digital image correlation was used in the 1980 Lyon optical mouse ['device'] ['0.7726431066359739']\n",
      "Optical models outperform mechanical mouse on uneven slick soft sticky or loose surfaces and generally in mobile situations lacking mouse pads ['device'] ['0.7189575888708207']\n",
      "Socalled hard mousepads for gamers or opticallaser mouse also exist ['device'] ['0.5640248196083854']\n",
      "Ergonomic quality is also an important factor in gaming mouse as extended gameplay times may render further use of the mouse to be uncomfortable ['device'] ['0.6775070594249308']\n",
      "However mouse adapt well to urban areas and are known for eating almost all types of food scraps ['animal'] ['0.6900819209131176']\n",
      "As the name suggests and unlike Engelbarts mouse the Telefunken model already had a ball ['device'] ['0.6579201720917595']\n",
      "Predictive algorithms in the CPU of the mouse calculated the speed and direction over the grid ['device'] ['0.6105957451184463']\n",
      "The development of the modern optical mouse at HewlettPackard Co was supported by a succession of related projects during the 1990s at HP Laboratories ['device'] ['0.7353210592141245']\n",
      "Pinkies are newborn mouse that have not yet grown fur fuzzies have some fur but are not very mobile hoppers have a full coat of hair and are fully mobile but are smaller than adult mouse ['animal'] ['0.5775343920629625']\n",
      "Mice can generally eat most rodent food for rats mouse hamsters gerbils etc ['animal'] ['0.7325105625113991']\n",
      "Later inspired by the Star Apple Computer released the Apple Lisa which also used a mouse ['device'] ['0.7276714330584276']\n",
      "At the time of the Mother of All Demos Engelbarts group had been using their second generation 3button mouse for about a year ['device'] ['0.5999184271386336']\n",
      "The Mario Paint game in particular used the mouses capabilities as did its successor on the N64 ['device'] ['0.7602862235870933']\n",
      "American Harvest mouse genus Reithrodontomys ['animal'] ['0.7658165027913428']\n",
      "When the movement of the mouse passes the value set for some threshold the software will start to move the cursor faster with a greater rate factor ['device'] ['0.7586695699524058']\n",
      "Other manufacturers soon followed Microsofts lead using components manufactured by the HP spinoff Agilent Technologies and over the next several years mechanical mouse became obsolete ['device'] ['0.7452004699050399']\n",
      "Domestic mouse sold as pets often differ substantially in size from the common house mouse ['animal'] ['0.6284046141078445']\n",
      "The earliest known publication of the term mouse as referring to a computer pointing device is in Bill Englishs July 1965 publication ComputerAided Display Control likely originating from its resemblance to the shape and size of a mouse a rodent with the cord resembling its tailThe plural for the small rodent is always mouse in modern usage ['device'] ['0.5751164734379561']\n",
      "Many shooting genre players prefer a mouse over a gamepad analog stick because the mouse is a linear input device which allows for fast and precise control ['device'] ['0.6616193557527787']\n",
      "This mouse uses a small infrared laser VCSEL instead of an LED and has significantly increased the resolution of the image taken by the mouse ['device'] ['0.6820680316910652']\n",
      "Typical mouse are classified in the genus Mus ['animal'] ['0.5938130542788661']\n",
      "flying mouse ['animal'] ['0.8446450092736483']\n",
      "The Kirsch and Lyon mouse types had very different behaviors as the Kirsch mouse used an xy coordinate system embedded in the pad and would not work correctly when the pad was rotated while the Lyon mouse used the xy coordinate system of the mouse body as mechanical mouse do ['device'] ['0.7497398089317924']\n",
      "The Sun1 also came with a mouse and the forthcoming Apple Lisa was rumored to use one but the peripheral remained obscure Jack Hawley of The Mouse House reported that one buyer for a large organization believed at first that his company sold lab mouse ['device'] ['0.6640731823851743']\n",
      "In the early 1990s the Super Nintendo Entertainment System video game system featured a mouse in addition to its controllers ['device'] ['0.7596366667122239']\n",
      "The burrow the entrance to which the mouse covers during daylight hours is also used to raise litters of between 2 and 7 young ['device'] ['0.5689255979721519']\n",
      "The mouse was tracked in three dimensions by a base station ['device'] ['0.6517361777623962']\n",
      "The mouse sends these signals to the computer system via the mouse cable directly as logic signals in very old mouse such as the Xerox mouse and via a dataformatting IC in modern mouse ['device'] ['0.61945851534142']\n",
      "When mouse have more than one button the software may assign different functions to each button ['device'] ['0.7072371371455053']\n",
      "By default the primary mouse button sits located on the lefthand side of the mouse for the benefit of righthanded users lefthanded users can usually reverse this configuration via software ['device'] ['0.7185269081726382']\n",
      "Some advanced mouse from gaming manufacturers also allow users to customize the weight of the mouse by adding or subtracting weights to allow for easier control ['device'] ['0.6816412708956228']\n",
      "The kangaroo mouse are closely related to the kangaroo rats which belong to the same subfamily Dipodomyinae ['animal'] ['0.7356316463905141']\n",
      "Hopping mouse – a similar murid rodent native to Australia an example of parallel evolution ['animal'] ['0.706016585976263']\n",
      "By 1982 the Xerox 8010 was probably the bestknown computer with a mouse ['device'] ['0.765420522571105']\n",
      "In November 2010 a German Company called Axsotic introduced a new concept of 3D mouse called 3D Spheric Mouse ['device'] ['0.6039440241325857']\n",
      "Some small trackpads work like an optical mouse ['device'] ['0.6970807078988008']\n",
      "The invert feature actually made the mouse behave in a manner that users now regard as noninverted by default moving mouse forward resulted in looking down ['device'] ['0.6734342007405436']\n",
      "Mice with less imageprocessing power also have problems tracking fast movement whereas some highquality mouse can track faster than 2 ms ['device'] ['0.6690287138158402']\n",
      "Other uses of the mouses input occur commonly in special applicationdomains ['device'] ['0.6292532573209961']\n",
      "Mouse Bungees are typically used with gaming mouse because it eliminates the annoyance of the cable ['device'] ['0.6706971081400107']\n",
      "required resolution by the optical navigators on the order of 1600th of an inch implementation of optical position measurement in computer mouse not only benefit from the cost reductions inherent in navigating at lower resolution but also enjoy the advantage of visual feedback to the user of the cursor position on the computer display ['device'] ['0.7967768015372613']\n",
      "Often called air mouse since they do not require a surface to operate inertial mouse use a tuning fork or other accelerometer US Patent 4787051 to detect rotary movement for every axis supported ['device'] ['0.8020288903775464']\n",
      "Mouse tracks How to identify mouse tracks ['device'] ['0.6025250319599238']\n",
      "The socalled roller bar mouse is positioned snugly in front of the keyboard thus allowing bimanual accessibility ['device'] ['0.664816889405395']\n",
      "Users most commonly employ the second button to invoke a contextual menu in the computers software user interface which contains options specifically tailored to the interface element over which the mouse cursor currently sits ['device'] ['0.7733471159853628']\n",
      "Engelbart never received any royalties for it as his employer SRI held the patent which expired before the mouse became widely used in personal computers ['device'] ['0.715242019537357']\n",
      "Around 1981 Xerox included mouse with its Xerox Star based on the mouse used in the 1970s on the Alto computer at Xerox PARC ['device'] ['0.7114484764712122']\n",
      "A knockout mouse is a genetically modified mouse that has had one or more of its genes made inoperable through a gene knockout ['animal'] ['0.6070804851900283']\n",
      "Optical mouse often used lightemitting diodes LEDs for illumination when first popularized ['device'] ['0.7993528537534393']\n",
      "The dark kangaroo mouse is also known to feed occasionally on insects and carrion ['animal'] ['0.6829556143566828']\n",
      "The weight of the ball given an appropriate working surface under the mouse provides a reliable grip so the mouses movement is transmitted accurately ['device'] ['0.7295358979127691']\n",
      "The laser illumination enables superior surface tracking compared to LEDilluminated optical mouseGlass laser or glaser mouse have the same capability of a laser mouse but work far better on mirror or transparent glass surfaces than other optical mouse on those surfaces ['device'] ['0.8224983035767361']\n",
      "The earliest optical mouse detected movement on preprinted mousepad surfaces whereas the modern LED optical mouse works on most opaque diffuse surfaces it is usually unable to detect movement on specular surfaces like polished stone ['device'] ['0.8380456825062138']\n",
      "Manufacturers often engineer their optical mouse—especially batterypowered wireless models—to save power when possible ['device'] ['0.7928770091614483']\n",
      "Generally when someone discovers a smaller muroid rodent its common name includes the term mouse while if it is larger the name includes the term rat ['animal'] ['0.5173075459921329']\n",
      "When holding a typical mouse ulna and radius bones on the arm are crossed ['device'] ['0.5201249853099468']\n",
      "A surfaceindependent coherent light optical mouse design was patented by Stephen B Jackson at Xerox in 1988The first commercially available modern optical computer mouse were the Microsoft IntelliMouse with IntelliEye and IntelliMouse Explorer introduced in 1999 using technology developed by HewlettPackard ['device'] ['0.8165063532630985']\n",
      "In Ancient Egypt when infants were ill mouse were eaten as treatment by their mothers ['device'] ['0.5146028160663919']\n",
      "The mouse genome has been sequenced and virtually all mouse genes have human homologs ['animal'] ['0.5768228554629555']\n",
      "However in Victorian Britain fried mouse were still given to children as a folk remedy for bedwetting while Jared Diamond reports creamed mouse being used in England as a dietary supplement during W W II rationingPrescribed cures in Ancient Egypt included mouse as medicine ['device'] ['0.6125465596033631']\n",
      "Sega released official mouse for their GenesisMega Drive Saturn and Dreamcast consoles ['device'] ['0.6026330799958177']\n",
      "Since around the late 1990s the threebutton scrollmouse has become the de facto standard ['device'] ['0.5985437234259694']\n",
      "Depending on how deeply hardcoded this misbehavior is internal user patches or external 3rdparty software may be able to fix itDue to their similarity to the WIMP desktop metaphor interface for which mouse were originally designed and to their own tabletop game origins computer strategy games are most commonly played with mouse ['device'] ['0.7441986433533775']\n",
      "Cordless mouse instead transmit data via infrared radiation see IrDA or radio including Bluetooth although many such cordless interfaces are themselves connected through the aforementioned wired serial buses ['device'] ['0.6637910964902121']\n",
      "The longtailed hopping mouse Notomys longicaudatus is an extinct species which was widespread in the drier regions of southern and central Australia ['animal'] ['0.8583665234024709']\n",
      "However such optimizations make the mouse right or left hand specific making more problematic to change the tired hand ['device'] ['0.6468404907627276']\n",
      "If the default mousetracking condition involves moving the cursor by one screenpixel or dot onscreen per reported step then the CPI does equate to DPI dots of cursor motion per inch of mouse motion ['device'] ['0.7753575728827463']\n",
      "Optical mouse capture one thousand successive images or more per second ['device'] ['0.6949369497774656']\n",
      "As the name suggests this type of mouse is intended to provide optimum comfort and avoid injuries such as carpal tunnel syndrome arthritis and other repetitive strain injuries ['device'] ['0.6541752418523105']\n",
      "Several other experimental pointingdevices developed for Engelbarts oNLine System NLS exploited different body movements – for example headmounted devices attached to the chin or nose – but ultimately the mouse won out because of its speed and convenience ['device'] ['0.6922140919387756']\n",
      "Primarily nocturnal animals mouse compensate for their poor eyesight with a keen sense of hearing and rely especially on their sense of smell to locate food and avoid predatorsMice build long intricate burrows in the wild ['animal'] ['0.6321831459109419']\n",
      "Optical mouse rely entirely on one or more lightemitting diodes LEDs and an imaging array of photodiodes to detect movement relative to the underlying surface eschewing the internal moving parts a mechanical mouse uses in addition to its optics ['device'] ['0.8506997626868241']\n"
     ]
    }
   ],
   "source": [
    "# try predicitng on a single sentence\n",

    "x = disambiguator.predict(features)\n",
    "print(x[0,:])\n",
    "\n",
    "for sentence in content:\n",
    "#     print(sentence)\n",
    "    features = data_model.transform(sentence)\n",
    "    prediction = disambiguator.predict(features)\n",
    "#     print(prediction.shape)\n",

    "    print(sentence, disambiguator.predict(features)[:,0], disambiguator.predict(features)[:,1])"
   ]
  }
 ],
 "metadata": {
  "kernelspec": {
   "display_name": ".venv",
   "language": "python",
   "name": ".venv"
  },
  "language_info": {
   "codemirror_mode": {
    "name": "ipython",
    "version": 3
   },
   "file_extension": ".py",
   "mimetype": "text/x-python",
   "name": "python",
   "nbconvert_exporter": "python",
   "pygments_lexer": "ipython3",
   "version": "3.7.0"
  }
 },
 "nbformat": 4,
 "nbformat_minor": 2
}
