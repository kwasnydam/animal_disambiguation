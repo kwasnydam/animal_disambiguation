{
 "cells": [
  {
   "cell_type": "code",
   "execution_count": 1,
   "metadata": {},
   "outputs": [
    {
     "name": "stdout",
     "output_type": "stream",
     "text": [
      "C:\\Users\\48519\\Professional Stuff\\various\\machine_learning\\mouse_disambiguation\n"
     ]
    }
   ],
   "source": [
    "import os\n",
    "import sys\n",
    "import pickle\n",
    "from inspect import signature\n",
    "\n",
    "import pandas as pd\n",
    "import numpy as np\n",
    "import matplotlib.pyplot as plt\n",
    "from sklearn.linear_model import LogisticRegression\n",
    "import sklearn.metrics as metrics\n",
    "from sklearn.preprocessing import normalize\n",
    "\n",
    "get_dir = os.path.dirname\n",
    "PROJ_ROOT = get_dir(get_dir(os.path.abspath('__file__')))\n",
    "print(PROJ_ROOT)\n",
    "sys.path.append(os.path.join(PROJ_ROOT, 'src'))\n",
    "\n",
    "from data import dataset\n",
    "from model import model "
   ]
  },
  {
   "cell_type": "code",
   "execution_count": 2,
   "metadata": {},
   "outputs": [],
   "source": [
    "data_model_path = os.path.join(dataset.DEFAULT_DATA_MODEL_DIRECTORY, 'data_model.pickle')\n",
    "data_model_params = dataset.DEFAULT_VECTORIZER_SETTINGS\n",
    "classificator_path = os.path.join(model.DEFAULT_MODEL_DIRECTORY, 'trained_model.pickle')\n",
    "classificator_params = model.DEFAULT_CLASSIFIER_SETTINGS\n",
    "test_data_directory = dataset.DEFAULT_PROCESSED_DATA_DIRECTORY\n",
    "test_data_features_path = os.path.join(test_data_directory, 'features', 'test.npy')\n",
    "test_data_text_path = os.path.join(test_data_directory, 'text', 'test.csv')"
   ]
  },
  {
   "cell_type": "code",
   "execution_count": 3,
   "metadata": {},
   "outputs": [],
   "source": [
    "disambiguator = model.build_mmdisambiguator(\n",
    "    data_model_params, data_model_path, classificator_params, classificator_path\n",
    ")"
   ]
  },
  {
   "cell_type": "code",
   "execution_count": 4,
   "metadata": {},
   "outputs": [
    {
     "name": "stdout",
     "output_type": "stream",
     "text": [
      "{'accuracy': 0.9444444444444444, 'precision': 1.0, 'recall': 0.7894736842105263, 'f1': 0.8823529411764706, 'confussion_matrix': [[15, 4], [0, 53]]}\n"
     ]
    }
   ],
   "source": [
    "test_data_text = pd.read_csv(test_data_text_path, sep=';')\n",
    "test_data_text.head()\n",
    "\n",
    "# split into text;classes\n",
    "content,  labels = test_data_text.iloc[:,0], test_data_text.iloc[:,1]\n",
    "\n",
    "# transform to numercial\n",
    "# features, classes = data_model.transform(content, labels)\n",
    "\n",
    "#predict classes\n",
    "predicted_classes, prediction_prob = disambiguator.predict(content, source='text')[:,0],\\\n",
    "disambiguator.predict(content, source='text')[:,1] \n",
    "\n",
    "for sentence, real_class, predicted_class, prob in zip(content, labels, predicted_classes, prediction_prob):\n",
    "    summmary = '{}, {}, {}, {}'.format(sentence, real_class, predicted_class, prob)\n",
    "    \n",
    "# test report:\n",
    "classes = disambiguator.transform_labels(labels)\n",
    "predicted_classes = disambiguator.predict(content, source='text', format='binary')[:,0]\n",
    "report = disambiguator.performance_report(predicted_classes, classes)\n",
    "print(report)"
   ]
  }
 ],
 "metadata": {
  "kernelspec": {
   "display_name": ".venv",
   "language": "python",
   "name": ".venv"
  },
  "language_info": {
   "codemirror_mode": {
    "name": "ipython",
    "version": 3
   },
   "file_extension": ".py",
   "mimetype": "text/x-python",
   "name": "python",
   "nbconvert_exporter": "python",
   "pygments_lexer": "ipython3",
   "version": "3.7.0"
  }
 },
 "nbformat": 4,
 "nbformat_minor": 2
}
