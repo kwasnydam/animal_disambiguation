{
 "cells": [
  {
   "cell_type": "code",
   "execution_count": 11,
   "metadata": {},
   "outputs": [
    {
     "name": "stdout",
     "output_type": "stream",
     "text": [
      "C:\\Users\\48519\\Professional Stuff\\various\\machine_learning\\mouse_disambiguation\n"
     ]
    }
   ],
   "source": [
    "import os\n",
    "import sys\n",
    "\n",
    "get_dir = os.path.dirname\n",
    "PROJ_ROOT = get_dir(get_dir(os.path.abspath('__file__')))\n",
    "print(PROJ_ROOT)\n",
    "sys.path.append(os.path.join(PROJ_ROOT, 'src'))\n",
    "\n",
    "import pandas as pd\n",
    "import numpy as np\n",
    "\n",
    "from data import dataset\n",
    "\n",
    "PREPROCESSED_TEXT_DIR = dataset.DEFAULT_PROCESSED_TEXT_DATA_DIRECTORY"
   ]
  },
  {
   "cell_type": "code",
   "execution_count": 16,
   "metadata": {},
   "outputs": [
    {
     "name": "stdout",
     "output_type": "stream",
     "text": [
      "                                                text   class\n",
      "0  A hopping mouse is any of about ten different ...  animal\n",
      "1  Half of the hopping mouse species have become ...  animal\n",
      "2             A hopping mouses primary diet is seeds  animal\n",
      "3  An Australian hopping mouse can concentrate ur...  animal\n",
      "4  The spinifex hopping mouse Notomys alexis occu...  animal\n",
      "\n",
      "\n",
      "0    A hopping mouse is any of about ten different ...\n",
      "1    Half of the hopping mouse species have become ...\n",
      "2               A hopping mouses primary diet is seeds\n",
      "3    An Australian hopping mouse can concentrate ur...\n",
      "4    The spinifex hopping mouse Notomys alexis occu...\n",
      "Name: text, dtype: object\n",
      "\n",
      "\n",
      "device    257\n",
      "animal    100\n",
      "Name: class, dtype: int64\n"
     ]
    }
   ],
   "source": [
    "# let's load the data into a pandas data frame\n",
    "preprocessed_text_path = os.path.join(PREPROCESSED_TEXT_DIR, 'dataset.csv')\n",
    "text_df = pd.read_csv(preprocessed_text_path, sep=';', header=None, names=['text', 'class'])\n",
    "print(text_df.head())\n",
    "print('\\n')"
   ]
  },
  {
   "cell_type": "markdown",
   "metadata": {},
   "source": [
    "We are not going to tokenize anything from this text here. Instead, what we are going to do is to shuffle it and split it into train and test datasets. Our dataset for now is imballanced so we need to be carefull. The spli from here will be used in consequtive experiments and to generate the features. "
   ]
  },
  {
   "cell_type": "code",
   "execution_count": 27,
   "metadata": {},
   "outputs": [
    {
     "data": {
      "text/html": [
       "<div>\n",
       "<style scoped>\n",
       "    .dataframe tbody tr th:only-of-type {\n",
       "        vertical-align: middle;\n",
       "    }\n",
       "\n",
       "    .dataframe tbody tr th {\n",
       "        vertical-align: top;\n",
       "    }\n",
       "\n",
       "    .dataframe thead th {\n",
       "        text-align: right;\n",
       "    }\n",
       "</style>\n",
       "<table border=\"1\" class=\"dataframe\">\n",
       "  <thead>\n",
       "    <tr style=\"text-align: right;\">\n",
       "      <th></th>\n",
       "      <th>text</th>\n",
       "      <th>class</th>\n",
       "    </tr>\n",
       "  </thead>\n",
       "  <tbody>\n",
       "    <tr>\n",
       "      <th>6</th>\n",
       "      <td>The northern hopping mouse Notomys aquilo is f...</td>\n",
       "      <td>animal</td>\n",
       "    </tr>\n",
       "    <tr>\n",
       "      <th>140</th>\n",
       "      <td>Combination of left or rightclick and the mous...</td>\n",
       "      <td>device</td>\n",
       "    </tr>\n",
       "    <tr>\n",
       "      <th>302</th>\n",
       "      <td>Though not commonly referred to as optical mou...</td>\n",
       "      <td>device</td>\n",
       "    </tr>\n",
       "    <tr>\n",
       "      <th>220</th>\n",
       "      <td>The mouse was a simple optomechanical device a...</td>\n",
       "      <td>device</td>\n",
       "    </tr>\n",
       "    <tr>\n",
       "      <th>90</th>\n",
       "      <td>Common terms used to refer to different agessi...</td>\n",
       "      <td>animal</td>\n",
       "    </tr>\n",
       "  </tbody>\n",
       "</table>\n",
       "</div>"
      ],
      "text/plain": [
       "                                                  text   class\n",
       "6    The northern hopping mouse Notomys aquilo is f...  animal\n",
       "140  Combination of left or rightclick and the mous...  device\n",
       "302  Though not commonly referred to as optical mou...  device\n",
       "220  The mouse was a simple optomechanical device a...  device\n",
       "90   Common terms used to refer to different agessi...  animal"
      ]
     },
     "execution_count": 27,
     "metadata": {},
     "output_type": "execute_result"
    }
   ],
   "source": [
    "# let's split our data into 3 sets: train, validation, test with a fixed random seed for reproducibility\n",
    "random_seed = 0\n",
    "np.random.seed(0)\n",
    "train_prop = 0.6\n",
    "valid_prop = 0.2\n",
    "train, validate, test = np.split(\n",
    "    text_df.sample(frac=1), \n",
    "    [int(train_prop*len(text_df)), int((train_prop+valid_prop)*len(text_df))]\n",
    ")\n",
    "train.head()\n"
   ]
  },
  {
   "cell_type": "code",
   "execution_count": 28,
   "metadata": {},
   "outputs": [
    {
     "name": "stdout",
     "output_type": "stream",
     "text": [
      "6      The northern hopping mouse Notomys aquilo is f...\n",
      "140    Combination of left or rightclick and the mous...\n",
      "302    Though not commonly referred to as optical mou...\n",
      "220    The mouse was a simple optomechanical device a...\n",
      "90     Common terms used to refer to different agessi...\n",
      "Name: text, dtype: object\n",
      "\n",
      "\n",
      "device    160\n",
      "animal     54\n",
      "Name: class, dtype: int64\n",
      "\n",
      "\n",
      "232    Cordless or wireless mouse transmit data via i...\n",
      "332                                           LED mouse \n",
      "40     Common terms rat and mouse are not taxonomical...\n",
      "112    They christened the device the mouse as early ...\n",
      "13     The great hopping mouse Notomys robustus Mahon...\n",
      "Name: text, dtype: object\n",
      "\n",
      "\n",
      "device    44\n",
      "animal    27\n",
      "Name: class, dtype: int64\n",
      "\n",
      "\n",
      "318    A simple binaryimage version of digital image ...\n",
      "355    Optical models outperform mechanical mouse on ...\n",
      "262    Socalled hard mousepads for gamers or opticall...\n",
      "203    Ergonomic quality is also an important factor ...\n",
      "84     However mouse adapt well to urban areas and ar...\n",
      "Name: text, dtype: object\n",
      "\n",
      "\n",
      "device    53\n",
      "animal    19\n",
      "Name: class, dtype: int64\n",
      "\n",
      "\n"
     ]
    }
   ],
   "source": [
    "for data in [train, validate, test]:\n",
    "    data_x, data_y = data.iloc[:,0], data.iloc[:,1]\n",
    "    print(data_x.head())\n",
    "    print('\\n')\n",
    "\n",
    "    print(data_y.value_counts())\n",
    "    print('\\n')"
   ]
  },
  {
   "cell_type": "code",
   "execution_count": 30,
   "metadata": {},
   "outputs": [],
   "source": [
    "# Finally, lets save our data \n",
    "filenames = ['train', 'validation','test']\n",
    "filenames = ['{}.csv'.format(filename) for filename in filenames]\n",
    "data_splits = [train, validate, test]\n",
    "for data, filename in zip(data_splits, filenames):\n",
    "    save_path = os.path.join(PREPROCESSED_TEXT_DIR, filename)\n",
    "    data.to_csv(save_path, sep=';', index=False)"
   ]
  }
 ],
 "metadata": {
  "kernelspec": {
   "display_name": ".venv",
   "language": "python",
   "name": ".venv"
  },
  "language_info": {
   "codemirror_mode": {
    "name": "ipython",
    "version": 3
   },
   "file_extension": ".py",
   "mimetype": "text/x-python",
   "name": "python",
   "nbconvert_exporter": "python",
   "pygments_lexer": "ipython3",
   "version": "3.7.0"
  }
 },
 "nbformat": 4,
 "nbformat_minor": 2
}
