{
 "cells": [
  {
   "cell_type": "markdown",
   "metadata": {},
   "source": [
    "In this script I am going to process the raw downloaded data with the following transformations:\n",
    "    1. split text into lines\n",
    "    2. split lines into sentences\n",
    "    3. leave only thos sentences which contain words: 'mouse\" or 'mice' (filtering) and replace 'mice' with 'mouse' (normalization)"
   ]
  },
  {
   "cell_type": "code",
   "execution_count": 14,
   "metadata": {},
   "outputs": [],
   "source": [
    "# set up environment\n",
    "import os\n",
    "import codecs\n",
    "\n",
    "import wikipedia\n",
    "from nltk.tokenize import sent_tokenize\n",
    "\n",
    "\n",
    "PROJECT_ROOT = os.path.abspath(os.path.join(os.pardir))\n",
    "DATA_PATH = os.path.join(PROJECT_ROOT, 'data')\n",
    "RAW_DATA_PATH = os.path.join(DATA_PATH, 'raw')\n",
    "INTERIM_DATA_PATH = os.path.join(DATA_PATH, 'interim')\n",
    "\n",
    "ENCODING = 'utf-8'"
   ]
  },
  {
   "cell_type": "code",
   "execution_count": 11,
   "metadata": {},
   "outputs": [],
   "source": [
    "# define processing pipeline\n",
    "\n",
    "def process_text(text):\n",
    "    ''' processes raw text downloaded from wikipedia\n",
    "    \n",
    "    Input:\n",
    "        content of the wikipedia page or any other string\n",
    "        \n",
    "    Output:\n",
    "        list of sentences containing word mouse\n",
    "    '''\n",
    "    def split_into_lines(text):\n",
    "        return text.splitlines()\n",
    "    \n",
    "    def split_into_sentences(lines):\n",
    "        sentences = []\n",
    "        for line in lines:\n",
    "            sentences.extend(sent_tokenize(line))\n",
    "        return sentences\n",
    "    \n",
    "    def filter_normalize_sentences(sentences):\n",
    "        valid_sentences = []\n",
    "        for sentence in sentences:\n",
    "            if 'mice' in sentence:\n",
    "                sentence = sentence.replace('mice', 'mouse')\n",
    "            \n",
    "            if 'mouse' in sentence:\n",
    "                valid_sentences.append(sentence)\n",
    "        return valid_sentences\n",
    "                \n",
    "    lines = split_into_lines(text)\n",
    "    sentences = split_into_sentences(lines)\n",
    "    valid_sentences = filter_normalize_sentences(sentences)\n",
    "    return valid_sentences\n",
    "\n",
    "# let's test our freshly defined function\n",
    "test_sentences = 'mice and mouse.\\nmouse is a small rodent.\\ncomputer mouse.\\nthere is no valid word here.'\n",
    "expected_output = ['mouse and mouse.', 'mouse is a small rodent.', 'computer mouse.']\n",
    "assert expected_output == process_text(test_sentences), 'ERROR: expected = {}, Actual = {}'.\\\n",
    "format(expected_output, process_text(test_sentences))"
   ]
  },
  {
   "cell_type": "code",
   "execution_count": 21,
   "metadata": {},
   "outputs": [
    {
     "name": "stdout",
     "output_type": "stream",
     "text": [
      "['hopping mouse.txt', 'kangaroo mouse.txt', 'mouse.txt']\n",
      "['computer mouse.txt', 'optical mouse.txt']\n"
     ]
    }
   ],
   "source": [
    "# For both 'device' and 'animal' built a file containing only valid sentences\n",
    "for context in ['animal', 'device']:\n",
    "    read_dir = os.path.join(RAW_DATA_PATH, context)\n",
    "    save_dir = os.path.join(INTERIM_DATA_PATH, '{}.txt'.format(context))\n",
    "    filenames = [filename for filename in os.listdir(read_dir) if filename.endswith('.txt')]\n",
    "    print(filenames)\n",
    "    \n",
    "    with codecs.open(save_dir, 'w', ENCODING) as of:\n",
    "        for filename in filenames:\n",
    "            read_path = os.path.join(read_dir, filename)\n",
    "            with codecs.open(read_path, 'r', ENCODING) as rf:\n",
    "                text = rf.read()\n",
    "                processed_text = process_text(text)\n",
    "                for sentence in processed_text:\n",
    "                    of.write(sentence)\n",
    "                    of.write('\\n')"
   ]
  },
  {
   "cell_type": "code",
   "execution_count": null,
   "metadata": {},
   "outputs": [],
   "source": []
  },
  {
   "cell_type": "code",
   "execution_count": null,
   "metadata": {},
   "outputs": [],
   "source": []
  }
 ],
 "metadata": {
  "kernelspec": {
   "display_name": ".venv",
   "language": "python",
   "name": ".venv"
  },
  "language_info": {
   "codemirror_mode": {
    "name": "ipython",
    "version": 3
   },
   "file_extension": ".py",
   "mimetype": "text/x-python",
   "name": "python",
   "nbconvert_exporter": "python",
   "pygments_lexer": "ipython3",
   "version": "3.7.0"
  }
 },
 "nbformat": 4,
 "nbformat_minor": 2
}
