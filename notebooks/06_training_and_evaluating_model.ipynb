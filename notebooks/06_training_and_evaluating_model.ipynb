{
 "cells": [
  {
   "cell_type": "code",
   "execution_count": 1,
   "metadata": {},
   "outputs": [
    {
     "name": "stdout",
     "output_type": "stream",
     "text": [
      "C:\\Users\\48519\\Professional Stuff\\various\\machine_learning\\mouse_disambiguation\n"
     ]
    }
   ],
   "source": [
    "import os\n",
    "import sys\n",
    "import pickle\n",
    "from inspect import signature\n",
    "\n",
    "import pandas as pd\n",
    "import numpy as np\n",
    "import matplotlib.pyplot as plt\n",
    "from sklearn.linear_model import LogisticRegression\n",
    "import sklearn.metrics as metrics\n",
    "from sklearn.preprocessing import normalize\n",
    "\n",
    "get_dir = os.path.dirname\n",
    "PROJ_ROOT = get_dir(get_dir(os.path.abspath('__file__')))\n",
    "print(PROJ_ROOT)\n",
    "sys.path.append(os.path.join(PROJ_ROOT, 'src'))\n",
    "\n",
    "from data import dataset\n",
    "from model import model "
   ]
  },
  {
   "cell_type": "code",
   "execution_count": 2,
   "metadata": {},
   "outputs": [],
   "source": [
    "with open(os.path.join(dataset.DEFAULT_DATA_MODEL_DIRECTORY, 'data_model.pickle'), 'rb') as f:\n",
    "    dat_mod = pickle.load(f)\n",
    "    \n",
    "class_params = model.DEFAULT_CLASSIFIER_SETTINGS\n",
    "\n",
    "vectorizer_settings = dataset.DEFAULT_VECTORIZER_SETTINGS\n",
    "\n",
    "pred_model = model.build_mmdisambiguator(\n",
    "    data_model_params=vectorizer_settings, \n",
    "    data_model_path=os.path.join(dataset.DEFAULT_DATA_MODEL_DIRECTORY, 'data_model.pickle'),\n",
    "    classificator_parameters=class_params\n",
    ")"
   ]
  },
  {
   "cell_type": "code",
   "execution_count": 3,
   "metadata": {},
   "outputs": [],
   "source": [
    "# train data\n",
    "FEATURES_PATH = dataset.DEFAULT_FEATURES_DIRECTORY\n",
    "TRAIN_FEATURES_PATH = os.path.join(FEATURES_PATH, 'train.npy')\n",
    "data = np.load(TRAIN_FEATURES_PATH, allow_pickle=True)"
   ]
  },
  {
   "cell_type": "code",
   "execution_count": 4,
   "metadata": {},
   "outputs": [
    {
     "name": "stdout",
     "output_type": "stream",
     "text": [
      "{'accuracy': 0.9953271028037384, 'precision': 0.9818181818181818, 'recall': 1.0, 'f1': 0.9908256880733944, 'confussion_matrix': [[54, 0], [1, 159]]}\n"
     ]
    }
   ],
   "source": [
    "# train the classifier from features and print report\n",
    "features_trained_report = pred_model.train(data=data[:,:-1],classes=data[:,-1], report=True, source='features')\n",
    "print(features_trained_report)"
   ]
  },
  {
   "cell_type": "code",
   "execution_count": 5,
   "metadata": {},
   "outputs": [
    {
     "data": {
      "text/html": [
       "<div>\n",
       "<style scoped>\n",
       "    .dataframe tbody tr th:only-of-type {\n",
       "        vertical-align: middle;\n",
       "    }\n",
       "\n",
       "    .dataframe tbody tr th {\n",
       "        vertical-align: top;\n",
       "    }\n",
       "\n",
       "    .dataframe thead th {\n",
       "        text-align: right;\n",
       "    }\n",
       "</style>\n",
       "<table border=\"1\" class=\"dataframe\">\n",
       "  <thead>\n",
       "    <tr style=\"text-align: right;\">\n",
       "      <th></th>\n",
       "      <th>text</th>\n",
       "      <th>class</th>\n",
       "    </tr>\n",
       "  </thead>\n",
       "  <tbody>\n",
       "    <tr>\n",
       "      <th>0</th>\n",
       "      <td>The northern hopping mouse Notomys aquilo is f...</td>\n",
       "      <td>animal</td>\n",
       "    </tr>\n",
       "    <tr>\n",
       "      <th>1</th>\n",
       "      <td>Combination of left or rightclick and the mous...</td>\n",
       "      <td>device</td>\n",
       "    </tr>\n",
       "    <tr>\n",
       "      <th>2</th>\n",
       "      <td>Though not commonly referred to as optical mou...</td>\n",
       "      <td>device</td>\n",
       "    </tr>\n",
       "    <tr>\n",
       "      <th>3</th>\n",
       "      <td>The mouse was a simple optomechanical device a...</td>\n",
       "      <td>device</td>\n",
       "    </tr>\n",
       "    <tr>\n",
       "      <th>4</th>\n",
       "      <td>Common terms used to refer to different agessi...</td>\n",
       "      <td>animal</td>\n",
       "    </tr>\n",
       "  </tbody>\n",
       "</table>\n",
       "</div>"
      ],
      "text/plain": [
       "                                                text   class\n",
       "0  The northern hopping mouse Notomys aquilo is f...  animal\n",
       "1  Combination of left or rightclick and the mous...  device\n",
       "2  Though not commonly referred to as optical mou...  device\n",
       "3  The mouse was a simple optomechanical device a...  device\n",
       "4  Common terms used to refer to different agessi...  animal"
      ]
     },
     "execution_count": 5,
     "metadata": {},
     "output_type": "execute_result"
    }
   ],
   "source": [
    "# load train text data:\n",
    "TEXT_PATH = dataset.DEFAULT_PROCESSED_TEXT_DATA_DIRECTORY\n",
    "TRAIN_TEXT_PATH = os.path.join(TEXT_PATH, 'train.csv')\n",
    "textdata = pd.read_csv(TRAIN_TEXT_PATH, sep=';')\n",
    "textdata.head()"
   ]
  },
  {
   "cell_type": "code",
   "execution_count": 6,
   "metadata": {},
   "outputs": [
    {
     "name": "stdout",
     "output_type": "stream",
     "text": [
      "[('device', 160), ('animal', 54)]\n",
      "{'accuracy': 0.9953271028037384, 'precision': 0.9818181818181818, 'recall': 1.0, 'f1': 0.9908256880733944, 'confussion_matrix': [[54, 0], [1, 159]]}\n"
     ]
    }
   ],
   "source": [
    "# train the classifier on text and expect identical results\n",
    "text_trained_report = pred_model.train(data=textdata.iloc[:,0],classes=textdata.iloc[:,1], report=True, source='text')\n",
    "print(text_trained_report)"
   ]
  },
  {
   "cell_type": "code",
   "execution_count": 9,
   "metadata": {},
   "outputs": [
    {
     "name": "stdout",
     "output_type": "stream",
     "text": [
      "71\n"
     ]
    }
   ],
   "source": [
    "# load validation features and text\n",
    "VALIDATION_FEATURES_PATH = os.path.join(FEATURES_PATH, 'validation.npy')\n",
    "VALIDATION_TEXT_PATH = os.path.join(dataset.DEFAULT_PROCESSED_TEXT_DATA_DIRECTORY, 'validation.csv')\n",
    "validation = np.load(VALIDATION_FEATURES_PATH, allow_pickle=True)\n",
    "validation_text = pd.read_csv(VALIDATION_TEXT_PATH, sep=';')\n"
   ]
  },
  {
   "cell_type": "code",
   "execution_count": 12,
   "metadata": {},
   "outputs": [
    {
     "name": "stdout",
     "output_type": "stream",
     "text": [
      "text before transofrmation: 71\n",
      "text after transofrmation: 71\n"
     ]
    }
   ],
   "source": [
    "# predict on validation features and text and expect the same results\n",
    "predict_on_features = pred_model.predict(validation[:,:-1])\n",
    "predict_on_text = pred_model.predict(validation_text.iloc[:,0], source='text')\n",
    "\n",
    "assert (predict_on_features[:,0] == predict_on_text[:,0]).all()"
   ]
  },
  {
   "cell_type": "code",
   "execution_count": null,
   "metadata": {},
   "outputs": [],
   "source": [
    "predicted_valid = pred_model.predict(validaton[:,:-1], format='binary', mode='prediction')\n",
    "print(validaton[:,:-1].sum(axis=1, keepdims=True))\n",
    "print(validation_text.iloc[1,0])\n",
    "to_print = 1\n",
    "predicted_classes = pred_model.predict(validaton[:,:-1], format='text')[:,0]\n",
    "summary = [(sentence, real, probs, pred) for sentence, real, probs, pred in zip(\n",
    "    validation_text.iloc[:to_print,0], validation_text.iloc[:to_print,1],\n",
    "    predicted_valid[:to_print], predicted_classes[:to_print])]\n",
    "for row in summary:\n",
    "    print(row)\n",
    "pd.options.display.max_rows = 4000\n",
    "\n",
    "# print(validation_text.iloc[:,1] != predicted_classes)\n",
    "print(validation_text.iloc[[12, 24, 34, 35, 45, 50, 54, 57, 59, 62], 0])\n",
    "print(predicted_valid[[12, 24, 34, 35, 45, 50, 54, 57, 59, 62]])\n",
    "\n",
    "\n",
    "# print(validation_text.iloc[:to_print,0])"
   ]
  },
  {
   "cell_type": "code",
   "execution_count": null,
   "metadata": {},
   "outputs": [],
   "source": [
    "\n"
   ]
  }
 ],
 "metadata": {
  "kernelspec": {
   "display_name": ".venv",
   "language": "python",
   "name": ".venv"
  },
  "language_info": {
   "codemirror_mode": {
    "name": "ipython",
    "version": 3
   },
   "file_extension": ".py",
   "mimetype": "text/x-python",
   "name": "python",
   "nbconvert_exporter": "python",
   "pygments_lexer": "ipython3",
   "version": "3.7.0"
  }
 },
 "nbformat": 4,
 "nbformat_minor": 2
}
